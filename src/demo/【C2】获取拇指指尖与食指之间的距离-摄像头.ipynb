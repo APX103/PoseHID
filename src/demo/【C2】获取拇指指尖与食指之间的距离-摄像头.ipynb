{
 "cells": [
  {
   "cell_type": "markdown",
   "id": "0862f0be",
   "metadata": {},
   "source": [
    "# 获取拇指指尖与食指之间的距离-摄像头\n",
    "\n",
    "同济子豪兄 2023-4-14\n",
    "\n",
    "预备知识：https://www.bilibili.com/video/BV1x44y127Yu"
   ]
  },
  {
   "cell_type": "markdown",
   "id": "cc47916e",
   "metadata": {},
   "source": [
    "## 导入工具包，定义可视化辅助函数"
   ]
  },
  {
   "cell_type": "code",
   "execution_count": 1,
   "id": "5b58d5c7",
   "metadata": {},
   "outputs": [],
   "source": [
    "import cv2\n",
    "import numpy as np\n",
    "from PIL import Image\n",
    "import mediapipe as mp\n",
    "\n",
    "# 导入python绘图matplotlib\n",
    "import matplotlib.pyplot as plt\n",
    "# 使用ipython的魔法方法，将绘制出的图像直接嵌入在notebook单元格中\n",
    "%matplotlib inline"
   ]
  },
  {
   "cell_type": "markdown",
   "id": "7e1dd43d",
   "metadata": {},
   "source": [
    "## 导入模型"
   ]
  },
  {
   "cell_type": "code",
   "execution_count": 2,
   "id": "606d1a41",
   "metadata": {},
   "outputs": [],
   "source": [
    "# 导入solution\n",
    "mp_hands = mp.solutions.hands\n",
    "\n",
    "# 导入模型\n",
    "hands = mp_hands.Hands(static_image_mode=True,        # 是静态图片还是连续视频帧\n",
    "                       max_num_hands=4,                # 最多检测几只手\n",
    "                       min_detection_confidence=0.4,   # 置信度阈值，过滤低于该阈值的预测结果\n",
    "                       min_tracking_confidence=0.5)    # 追踪阈值\n",
    "\n",
    "# 导入绘图函数\n",
    "mpDraw = mp.solutions.drawing_utils "
   ]
  },
  {
   "cell_type": "code",
   "execution_count": 3,
   "id": "45eda4d5",
   "metadata": {},
   "outputs": [
    {
     "name": "stderr",
     "output_type": "stream",
     "text": [
      "INFO: Created TensorFlow Lite XNNPACK delegate for CPU.\n"
     ]
    }
   ],
   "source": [
    "scaler = 1 # 字体大小因子"
   ]
  },
  {
   "cell_type": "markdown",
   "id": "cb548225",
   "metadata": {},
   "source": [
    "## 逐帧处理函数"
   ]
  },
  {
   "cell_type": "code",
   "execution_count": 37,
   "id": "4fd3d38b",
   "metadata": {},
   "outputs": [
    {
     "name": "stdout",
     "output_type": "stream",
     "text": [
      "Size(width=1920, height=1080)\n"
     ]
    }
   ],
   "source": [
    "import pyautogui\n",
    "\n",
    "print(pyautogui.size())\n",
    "\n",
    "\n",
    "# 逐帧处理函数，默认不进行任何处理，直接将摄像头捕获的画面写入视频帧\n",
    "def process_frame(img_bgr):\n",
    "    \n",
    "    bh, bw = pyautogui.size()\n",
    "    \n",
    "    \n",
    "    \n",
    "    # 获取图像宽高\n",
    "    h, w = img_bgr.shape[0], img_bgr.shape[1]\n",
    "    \n",
    "    # 水平镜像翻转图像，使图中左右手与真实左右手对应\n",
    "    # 参数 1：水平翻转，0：竖直翻转，-1：水平和竖直都翻转\n",
    "    img_bgr = cv2.flip(img_bgr, 1)\n",
    "    \n",
    "    # BGR 转 RGB\n",
    "    img_rgb = cv2.cvtColor(img_bgr, cv2.COLOR_BGR2RGB)\n",
    "    \n",
    "    # 将RGB图像输入模型，获取预测结果\n",
    "    results = hands.process(img_rgb)\n",
    "    # print('检测到 {} 只手'.format(len(results.multi_hand_landmarks)))\n",
    "    \n",
    "    if results.multi_hand_landmarks: # 如果有检测到手\n",
    "    \n",
    "        # 获取索引为hand_idx的手\n",
    "        hand_idx = 0\n",
    "        hand_21 = results.multi_hand_landmarks[hand_idx]\n",
    "\n",
    "        # 可视化关键点及骨架连线\n",
    "        mpDraw.draw_landmarks(img_bgr, hand_21, mp_hands.HAND_CONNECTIONS)\n",
    "        \n",
    "#         print(hand_21.landmark[4])\n",
    "        # 获取食指指尖坐标\n",
    "        index_tip_x = int(hand_21.landmark[4].x * w)\n",
    "        index_tip_y = int(hand_21.landmark[4].y * h)\n",
    "#         print(index_tip_x, index_tip_y)\n",
    "        # 绘制圆：图像，圆心坐标，半径，BGR颜色，最后一个参数为线宽，-1表示填充\n",
    "        img_bgr = cv2.circle(img_bgr,(index_tip_x, index_tip_y), 10, (255,240,1), -1)\n",
    "\n",
    "        # 获取大拇指指尖坐标\n",
    "        thumb_tip_x = int(hand_21.landmark[8].x * w)\n",
    "        thumb_tip_y = int(hand_21.landmark[8].y * h)\n",
    "        # 绘制圆：图像，圆心坐标，半径，BGR颜色，最后一个参数为线宽，-1表示填充\n",
    "        img_bgr = cv2.circle(img_bgr, (thumb_tip_x, thumb_tip_y), 10, (94,218,121), -1)\n",
    "        \n",
    "        srceen_mid_mcp_x = int(hand_21.landmark[4].x * bw)\n",
    "        srceen_mid_mcp_y = int(hand_21.landmark[4].y * bw)\n",
    "        \n",
    "        pyautogui.moveTo(srceen_mid_mcp_x, srceen_mid_mcp_y, duration=0)\n",
    "    \n",
    "        # 连接大拇指指尖和食指指尖\n",
    "        # 图，两个点的坐标，颜色，线宽\n",
    "        img_bgr = cv2.line(img_bgr, (index_tip_x,index_tip_y), (thumb_tip_x,thumb_tip_y), color=(1,240,255), thickness=4)\n",
    "\n",
    "        # 计算像素距离\n",
    "        distance = np.linalg.norm([index_tip_x-thumb_tip_x, index_tip_y-thumb_tip_y])\n",
    "        if(distance < 30):\n",
    "            print(srceen_mid_mcp_x, srceen_mid_mcp_y)\n",
    "            pyautogui.rightClick(srceen_mid_mcp_x, srceen_mid_mcp_y)\n",
    "        distance_str = 'Distance {:.2f}'.format(distance)\n",
    "        # 在图像上写距离数值，参数依次为：图片，添加的文字，左上角坐标，字体，字体大小，颜色，字体粗细\n",
    "        img_bgr = cv2.putText(img_bgr, distance_str, (25 * scaler, 50 * scaler), cv2.FONT_HERSHEY_SIMPLEX, 1.25 * scaler, (255, 0, 255), 2 * scaler)\n",
    "    \n",
    "    img = img_bgr\n",
    "    return img"
   ]
  },
  {
   "cell_type": "markdown",
   "id": "43476d60",
   "metadata": {},
   "source": [
    "## 调用摄像头实时画面"
   ]
  },
  {
   "cell_type": "code",
   "execution_count": 38,
   "id": "0b009a5f",
   "metadata": {},
   "outputs": [
    {
     "name": "stdout",
     "output_type": "stream",
     "text": [
      "510 722\n",
      "510 721\n",
      "512 731\n",
      "503 758\n",
      "250 874\n",
      "656 522\n",
      "319 869\n",
      "257 907\n"
     ]
    }
   ],
   "source": [
    "# 调用摄像头逐帧实时处理模板\n",
    "# 不需修改任何代码，只需修改process_frame函数即可\n",
    "# 同济子豪兄 2021-7-8\n",
    "\n",
    "# 导入opencv-python\n",
    "import cv2\n",
    "import time\n",
    "\n",
    "# 获取摄像头，传入0表示获取系统默认摄像头\n",
    "cap = cv2.VideoCapture(0)\n",
    "\n",
    "# 打开cap\n",
    "cap.open(0)\n",
    "\n",
    "# 无限循环，直到break被触发\n",
    "while cap.isOpened():\n",
    "    \n",
    "    # 获取画面\n",
    "    success, frame = cap.read()\n",
    "    \n",
    "    if not success: # 如果获取画面不成功，则退出\n",
    "        print('获取画面不成功，退出')\n",
    "        break\n",
    "    \n",
    "    ## 逐帧处理\n",
    "    frame = process_frame(frame)\n",
    "    \n",
    "    # 展示处理后的三通道图像\n",
    "    cv2.imshow('my_window',frame)\n",
    "    \n",
    "    key_pressed = cv2.waitKey(60) # 每隔多少毫秒毫秒，获取键盘哪个键被按下\n",
    "    # print('键盘上被按下的键：', key_pressed)\n",
    "\n",
    "    if key_pressed in [ord('q'),27]: # 按键盘上的q或esc退出（在英文输入法下）\n",
    "        break\n",
    "    \n",
    "#     time.sleep(1)\n",
    "# 关闭摄像头\n",
    "cap.release()\n",
    "\n",
    "# 关闭图像窗口\n",
    "cv2.destroyAllWindows()"
   ]
  },
  {
   "cell_type": "code",
   "execution_count": 33,
   "id": "a80938ec",
   "metadata": {},
   "outputs": [
    {
     "name": "stdout",
     "output_type": "stream",
     "text": [
      "Point(x=862, y=700)\n"
     ]
    }
   ],
   "source": [
    "print(pyautogui.position())\n",
    "pyautogui.moveTo(100, 100, duration=0)"
   ]
  }
 ],
 "metadata": {
  "kernelspec": {
   "display_name": "Python 3 (ipykernel)",
   "language": "python",
   "name": "python3"
  },
  "language_info": {
   "codemirror_mode": {
    "name": "ipython",
    "version": 3
   },
   "file_extension": ".py",
   "mimetype": "text/x-python",
   "name": "python",
   "nbconvert_exporter": "python",
   "pygments_lexer": "ipython3",
   "version": "3.10.6"
  }
 },
 "nbformat": 4,
 "nbformat_minor": 5
}
